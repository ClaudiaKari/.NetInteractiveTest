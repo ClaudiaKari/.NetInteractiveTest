{
 "cells": [
  {
   "cell_type": "code",
   "execution_count": null,
   "metadata": {},
   "outputs": [],
   "source": [
    "\n",
    "// This test is using F# syntax and mixing others .Net languages  using magic commands\n",
    "// To see the list of magic commands: #!lsmagic"
   ]
  },
  {
   "cell_type": "code",
   "execution_count": 15,
   "metadata": {},
   "outputs": [
    {
     "name": "stdout",
     "output_type": "stream",
     "text": [
      "Hello first Test\n"
     ]
    }
   ],
   "source": [
    "#!csharp\n",
    "Console.WriteLine(\"Hello first Test\");"
   ]
  },
  {
   "cell_type": "code",
   "execution_count": 8,
   "metadata": {},
   "outputs": [
    {
     "data": {
      "text/html": [
       "<div><h6>.NET</h6><pre>[ #!csharp, #!fsharp, #!powershell, #!lsmagic, #!html, #!javascript, #!markdown, #!time, #!about ]</pre></div>"
      ]
     },
     "metadata": {},
     "output_type": "display_data"
    },
    {
     "data": {
      "text/html": [
       "<div><h6>csharp</h6><pre>[ #r, #!whos, #!lsmagic ]</pre></div>"
      ]
     },
     "metadata": {},
     "output_type": "display_data"
    },
    {
     "data": {
      "text/html": [
       "<div><h6>fsharp</h6><pre>[ #!whos, #!lsmagic ]</pre></div>"
      ]
     },
     "metadata": {},
     "output_type": "display_data"
    },
    {
     "data": {
      "text/html": [
       "<div><h6>powershell</h6><pre>[ #!lsmagic ]</pre></div>"
      ]
     },
     "metadata": {},
     "output_type": "display_data"
    }
   ],
   "source": [
    "// List of magic commands\n",
    "#!lsmagic"
   ]
  },
  {
   "cell_type": "code",
   "execution_count": 17,
   "metadata": {},
   "outputs": [
    {
     "name": "stdout",
     "output_type": "stream",
     "text": [
      "Dictionary 1:1\n"
     ]
    }
   ],
   "source": [
    "#!csharp\n",
    "\n",
    "var uDictionary= new Dictionary<string,int>();\n",
    "uDictionary.Add(\"cat\",2);\n",
    "        \n",
    "Console.WriteLine(\"Dictionary 1:\" + uDictionary.Count());\n",
    "\n"
   ]
  },
  {
   "cell_type": "code",
   "execution_count": null,
   "metadata": {},
   "outputs": [],
   "source": []
  },
  {
   "cell_type": "code",
   "execution_count": 11,
   "metadata": {},
   "outputs": [
    {
     "data": {
      "text/html": [
       "<table><thead><tr><th><i>key</i></th><th>value</th></tr></thead><tbody><tr><td>zero</td><td>0</td></tr><tr><td>one</td><td>1</td></tr><tr><td>two</td><td>2</td></tr></tbody></table>"
      ]
     },
     "execution_count": 11,
     "metadata": {},
     "output_type": "execute_result"
    }
   ],
   "source": [
    "#!fsharp\n",
    "let d= dict [(\"zero\",0);(\"one\",1);(\"two\",2)]\n",
    "System.Collections.Generic.Dictionary<string,int>(d)\n",
    "    "
   ]
  },
  {
   "cell_type": "code",
   "execution_count": 13,
   "metadata": {},
   "outputs": [
    {
     "name": "stdout",
     "output_type": "stream",
     "text": [
      "Hello using F# syntax\n"
     ]
    },
    {
     "data": {
      "text/html": [
       "<null>"
      ]
     },
     "execution_count": 13,
     "metadata": {},
     "output_type": "execute_result"
    }
   ],
   "source": [
    "printfn \"Hello using F# syntax\""
   ]
  },
  {
   "cell_type": "code",
   "execution_count": 16,
   "metadata": {},
   "outputs": [],
   "source": [
    "(* The code below use Python syntax, if you uncomment this you will get an error  *)\n",
    "\n",
    "(*  print('hello') *)\n",
    "\n",
    "(* message= input('Pick a number:') *)\n",
    "(*  print(message) *)"
   ]
  },
  {
   "cell_type": "code",
   "execution_count": null,
   "metadata": {},
   "outputs": [],
   "source": []
  },
  {
   "cell_type": "code",
   "execution_count": null,
   "metadata": {},
   "outputs": [],
   "source": []
  }
 ],
 "metadata": {
  "kernelspec": {
   "display_name": ".NET (F#)",
   "language": "F#",
   "name": ".net-fsharp"
  },
  "language_info": {
   "file_extension": ".fs",
   "mimetype": "text/x-fsharp",
   "name": "C#",
   "pygments_lexer": "fsharp",
   "version": "4.5"
  }
 },
 "nbformat": 4,
 "nbformat_minor": 4
}
