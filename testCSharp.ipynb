{
 "cells": [
  {
   "cell_type": "code",
   "execution_count": 1,
   "metadata": {},
   "outputs": [
    {
     "data": {
      "text/html": [
       "<table><thead><tr><th>Title</th><th>Name</th></tr></thead><tbody><tr><td>Captain</td><td>Marvel</td></tr></tbody></table>"
      ]
     },
     "metadata": {},
     "output_type": "display_data"
    }
   ],
   "source": [
    "\n",
    "// This test is using C# syntax without mixing other .Net languages nor using magic commands\n",
    "// To see the list of magic commands: #!lsmagic"
   ]
  },
  {
   "cell_type": "code",
   "execution_count": null,
   "metadata": {},
   "outputs": [],
   "source": [
    "class person\n",
    "{\n",
    "    public string Title {get; set;}\n",
    "    public string Name {get; set;}\n",
    "}\n",
    "display (new person{ Title=\"Captain\", Name = \"Marvel\"});"
   ]
  },
  {
   "cell_type": "code",
   "execution_count": 6,
   "metadata": {},
   "outputs": [
    {
     "data": {
      "text/html": [
       "<table><thead><tr><th><i>index</i></th><th>Title</th><th>Name</th></tr></thead><tbody><tr><td>0</td><td>Captain</td><td>America</td></tr><tr><td>1</td><td>Iron</td><td>Man</td></tr></tbody></table>"
      ]
     },
     "metadata": {},
     "output_type": "display_data"
    }
   ],
   "source": [
    "var groupOfHeroes = new[]\n",
    "{\n",
    "    new person { Title= \"Captain\", Name= \"America\"},\n",
    "    new person {Title =\"Iron\", Name= \"Man\"}\n",
    "};\n",
    "display (groupOfHeroes);"
   ]
  },
  {
   "cell_type": "code",
   "execution_count": 3,
   "metadata": {},
   "outputs": [
    {
     "data": {
      "text/html": [
       "<p><b> Hello </b></p>"
      ]
     },
     "metadata": {},
     "output_type": "display_data"
    }
   ],
   "source": [
    "display( HTML (\"<p><b> Hello </b></p>\"))"
   ]
  },
  {
   "cell_type": "code",
   "execution_count": 5,
   "metadata": {},
   "outputs": [
    {
     "ename": "Unhandled exception",
     "evalue": "(3,24): error CS1003: Syntax error, ']' expected\r\n(3,44): error CS1002: ; expected\r\n(3,44): error CS7017: Member definition, statement, or end-of-file expected",
     "output_type": "error",
     "traceback": [
      "(3,24): error CS1003: Syntax error, ']' expected\r\n(3,44): error CS1002: ; expected\r\n(3,44): error CS7017: Member definition, statement, or end-of-file expected"
     ]
    }
   ],
   "source": [
    "\n",
    "// If you uncomment these two lines below, you will get an error because they are using F# syntax and I did not call\n",
    "// the F# magic command\n",
    "\n",
    "// let d= dict [(\"zero\",0);(\"one\",1);(\"two\",2)]\n",
    "// System.Collections.Generic.Dictionary<string,int>(d)"
   ]
  },
  {
   "cell_type": "code",
   "execution_count": null,
   "metadata": {},
   "outputs": [],
   "source": []
  },
  {
   "cell_type": "code",
   "execution_count": null,
   "metadata": {},
   "outputs": [],
   "source": []
  }
 ],
 "metadata": {
  "kernelspec": {
   "display_name": ".NET (C#)",
   "language": "C#",
   "name": ".net-csharp"
  },
  "language_info": {
   "file_extension": ".cs",
   "mimetype": "text/x-csharp",
   "name": "C#",
   "pygments_lexer": "csharp",
   "version": "8.0"
  }
 },
 "nbformat": 4,
 "nbformat_minor": 4
}
